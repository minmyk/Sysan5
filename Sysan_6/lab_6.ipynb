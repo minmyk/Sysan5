{
 "cells": [
  {
   "cell_type": "code",
   "execution_count": 1,
   "metadata": {},
   "outputs": [
    {
     "name": "stdout",
     "output_type": "stream",
     "text": [
      "['T1', 'T2', 'T3', 'T4', 'T5', 'T6', 'T7', 'T8', 'T9', 'T10']\n"
     ]
    }
   ],
   "source": [
    "import pandas as pd\n",
    "import numpy as np\n",
    "from functools import reduce\n",
    "from swotreader import SWOTComponentMatrix\n",
    "import create_swot_table as databank"
   ]
  },
  {
   "cell_type": "code",
   "execution_count": 30,
   "metadata": {},
   "outputs": [],
   "source": [
    "\n",
    "def Initialize():\n",
    "    \"\"\" by Vamdemon \"\"\"\n",
    "\n",
    "    Threats = databank.threats\n",
    "    Strengths = databank.strengths\n",
    "    Opportunities = databank.opportunities\n",
    "    Weaknesses = databank.weaknesses\n",
    "    \n",
    "    \n",
    "\n",
    "    SO = databank.SO_letters\n",
    "    ST = databank.ST_letters\n",
    "    WO = databank.WO_letters\n",
    "    WT = databank.WT_letters\n",
    "    \n",
    "    \n",
    "    SWOT = pd.concat((pd.concat((ST, SO), axis=1), pd.concat((WT, WO), axis=1)), axis=0)\n",
    "    \n",
    "    return SWOT\n",
    "\n",
    "def get_weights(swot_table):\n",
    "    S = swot_table.index.str[0]=='S'\n",
    "    W = swot_table.index.str[0]=='W'\n",
    "    O = swot_table.columns.str[0]=='O'\n",
    "    T = swot_table.columns.str[0]=='T'\n",
    "    \n",
    "    T_score = swot_table.loc[S, T].sum(axis=0) - swot_table.loc[W, T].sum(axis=0)\n",
    "    O_score = swot_table.loc[S, O].sum(axis=0) - swot_table.loc[W, O].sum(axis=0)\n",
    "    S_score = swot_table.loc[S, T].sum(axis=1) + swot_table.loc[S, O].sum(axis=1)\n",
    "    W_score = swot_table.loc[W, T].sum(axis=1) + swot_table.loc[W, O].sum(axis=1)\n",
    "    \n",
    "    return T_score, O_score, S_score, W_score\n",
    "\n",
    "def get_parasha_tables(swot_table):\n",
    "    O = swot_table.columns.str[0]=='O'\n",
    "    T = swot_table.columns.str[0]=='T'\n",
    "    S = swot_table.index.str[0]=='S'\n",
    "    W = swot_table.index.str[0]=='W'\n",
    "    \n",
    "    parashaSO = pd.Series({col:swot_table.loc[S,col][swot_table[col]!=0.].index.values for col in swot_table.loc[:,O].columns}, name = 'SO')\n",
    "    parashaWO = pd.Series({col:swot_table.loc[W,col][swot_table[col]!=0.].index.values for col in swot_table.loc[:,O].columns}, name = 'WO')\n",
    "    parashaWT = pd.Series({col:swot_table.loc[W,col][swot_table[col]!=0.].index.values for col in swot_table.loc[:,T].columns}, name = 'WT')\n",
    "    parashaST = pd.Series({col:swot_table.loc[S,col][swot_table[col]!=0.].index.values for col in swot_table.loc[:,T].columns}, name = 'ST')\n",
    "    \n",
    "    parashaO = pd.concat([parashaSO,parashaWO],axis=1)\n",
    "    parashaT = pd.concat([parashaST,parashaWT],axis=1)\n",
    "    return parashaO, parashaT\n",
    "\n",
    "def form_strategies():\n",
    "    strategies = pd.DataFrame(np.load(\"data/strategy.npy\"))\n",
    "    return strategies\n",
    "\n",
    "def get_D_upper_lower(strategies):\n",
    "    strategies_max = pd.concat((strategies, pd.DataFrame({'maximal': strategies.max(axis=1)})), axis=1)\n",
    "    strategies_max_min = pd.concat((strategies_max, pd.DataFrame({'minimal': strategies.min(axis=1)})), axis=1)\n",
    "    bounds = []\n",
    "    criterions = []\n",
    "    for strategy in strategies.columns:\n",
    "        bounds.append([0, 0])\n",
    "        for index in strategies.index:\n",
    "            bounds[-1][0] += (strategies[strategy][index] - strategies_max_min['minimal'][index]) ** 2\n",
    "            bounds[-1][1] += (strategies[strategy][index] - strategies_max_min['maximal'][index]) ** 2\n",
    "        bounds[-1][0] = np.sqrt(bounds[-1][0])\n",
    "        bounds[-1][1] = np.sqrt(bounds[-1][1])\n",
    "\n",
    "    criterions = list(map(lambda bound: bound[0] / (bound[0] + bound[1]), bounds))\n",
    "    return strategies.columns[np.argmax(criterions)]\n",
    "\n",
    "def TOPSIS(swot_table, scores):\n",
    "    \n",
    "    strategies = form_strategies()\n",
    "    strategy = get_D_upper_lower(strategies)\n",
    "    \n",
    "    return  \"Strategy \" + str(strategy)\n",
    "\n",
    "def VIKOR(matr_E, w=np.array([1 / 44] * 44), v=0.51):\n",
    "    ''' \n",
    "        by Volomos\n",
    "        @matr_E - Matr(nxr) - матриця значень вагових коеф.\n",
    "            n – кількість варіантів системи; R – кількість показників.\n",
    "        @w - dim = r - вектор вагових коефіцієнтів показників \n",
    "        @v - коефіцієнт збалансованості з інтервалу [0, 1]\n",
    "    '''\n",
    "    E = form_strategies().T\n",
    "    E = E.to_numpy()\n",
    "    n = E.shape[0]\n",
    "    r = E.shape[1]\n",
    "    \n",
    "    #1st stage\n",
    "    \n",
    "    best_e = np.zeros(r)\n",
    "    worst_e = np.zeros(r)\n",
    "    \n",
    "    for j in range(r):\n",
    "        best_e[j] = np.max(E[:,j])\n",
    "        worst_e[j] = np.min(E[:,j])\n",
    "    \n",
    "    #2nd stage\n",
    "\n",
    "    #print(w)\n",
    "    \n",
    "    S = [sum([ w[j] * ((best_e[j] - E[i, j])) / (best_e[j] - worst_e[j])\\\n",
    "                          for j in range(r)]) for i in range(n)]\n",
    "    #print(S)\n",
    "    #3rd stage\n",
    "    R = np.array([np.max([(w[j] * (best_e[j] - E[i, j])) / (best_e[j] - worst_e[j])\\\n",
    "                          for j in range(r)]) for i in range(n)])\n",
    "    #4th stage\n",
    "    best_R = np.max(R)\n",
    "    best_S = np.max(S)\n",
    "    \n",
    "    worst_R = np.min(R)\n",
    "    worst_S = np.min(S)\n",
    "    Q = np.array([np.array([(R[i] - worst_R)/(best_R - worst_R) if best_S == worst_S else\\\n",
    "                  (S[i] - worst_S)/(best_S - worst_S) if best_R == worst_R else\\\n",
    "                  v * (S[i] - worst_S)/(best_S - worst_S) + \\\n",
    "                  (1 - v) * (R[i] - worst_R)/(best_R - worst_R), i])  for i in range(n)])\n",
    "    \n",
    "    #6th stage\n",
    "    Q = Q[Q[:,0].argsort()]\n",
    "    \n",
    "    \n",
    "    ## 1st - preference criterion\n",
    "    criterion_1 = False\n",
    "    \n",
    "    dQ = 1 / (n - 1)\n",
    "    \n",
    "    if Q[0][0] - Q[1][0] > dQ:\n",
    "        criterion_1 = True\n",
    "    \n",
    "    ## 2nd - partial values criterion\n",
    "    criterion_2 = False\n",
    "    if S[int(Q[0][1])] < S[int(Q[1][1])] and R[int(Q[0][1])] < R[int(Q[1][1])]:\n",
    "        criterion_2 = True\n",
    "    \n",
    "    if criterion_1 and criterion_2:\n",
    "        print('Альтернатива ' + str(Q[0][0]) + ' найкраща')\n",
    "   \n",
    "    elif not(criterion_1) and criterion_2:\n",
    "        k = 1\n",
    "        while Q[0][0] - Q[k][0] < dQ:\n",
    "            k += 1\n",
    "            if k >= Q.shape[0]:\n",
    "                break\n",
    "        print('До множини компромісних альтернатив входять ' + str(k) + \\\n",
    "              ' альтернатив: ' + str([Q[i][1] for i in range(k)]))\n",
    "    \n",
    "    elif criterion_1 and not(criterion_2):\n",
    "        print('Розгляду підлягають альтернативи ' + str(Q[0][1]) + ', ' + str(Q[1][1]))\n",
    "    \n",
    "    else:\n",
    "        print('---')\n",
    "    return \"Strategy \" + str(int(Q[0][1] + 1))"
   ]
  },
  {
   "cell_type": "code",
   "execution_count": 31,
   "metadata": {},
   "outputs": [
    {
     "name": "stdout",
     "output_type": "stream",
     "text": [
      "---\n",
      "TOPSIS says: Strategy 2\n",
      "VIKOR says: Strategy 1\n"
     ]
    },
    {
     "name": "stderr",
     "output_type": "stream",
     "text": [
      "/Users/vamdemon/anaconda3/lib/python3.7/site-packages/ipykernel_launcher.py:103: RuntimeWarning: invalid value encountered in double_scalars\n",
      "/Users/vamdemon/anaconda3/lib/python3.7/site-packages/ipykernel_launcher.py:107: RuntimeWarning: invalid value encountered in double_scalars\n"
     ]
    }
   ],
   "source": [
    "SWOT = Initialize()\n",
    "scores = get_weights(SWOT)\n",
    "O_SW, T_SW = get_parasha_tables(SWOT)\n",
    "strategy_topsis = TOPSIS(SWOT, scores)\n",
    "strategy_vikor = VIKOR(SWOT)\n",
    "print(\"TOPSIS says: \" + strategy_topsis)\n",
    "print(\"VIKOR says: \" + strategy_vikor)"
   ]
  },
  {
   "cell_type": "code",
   "execution_count": 4,
   "metadata": {},
   "outputs": [
    {
     "name": "stderr",
     "output_type": "stream",
     "text": [
      "/Users/vamdemon/anaconda3/lib/python3.7/site-packages/ipykernel_launcher.py:40: DeprecationWarning: The default dtype for empty Series will be 'object' instead of 'float64' in a future version. Specify a dtype explicitly to silence this warning.\n",
      "/Users/vamdemon/anaconda3/lib/python3.7/site-packages/ipykernel_launcher.py:41: DeprecationWarning: The default dtype for empty Series will be 'object' instead of 'float64' in a future version. Specify a dtype explicitly to silence this warning.\n",
      "/Users/vamdemon/anaconda3/lib/python3.7/site-packages/ipykernel_launcher.py:42: DeprecationWarning: The default dtype for empty Series will be 'object' instead of 'float64' in a future version. Specify a dtype explicitly to silence this warning.\n",
      "/Users/vamdemon/anaconda3/lib/python3.7/site-packages/ipykernel_launcher.py:43: DeprecationWarning: The default dtype for empty Series will be 'object' instead of 'float64' in a future version. Specify a dtype explicitly to silence this warning.\n"
     ]
    },
    {
     "data": {
      "text/html": [
       "<div>\n",
       "<style scoped>\n",
       "    .dataframe tbody tr th:only-of-type {\n",
       "        vertical-align: middle;\n",
       "    }\n",
       "\n",
       "    .dataframe tbody tr th {\n",
       "        vertical-align: top;\n",
       "    }\n",
       "\n",
       "    .dataframe thead th {\n",
       "        text-align: right;\n",
       "    }\n",
       "</style>\n",
       "<table border=\"1\" class=\"dataframe\">\n",
       "  <thead>\n",
       "    <tr style=\"text-align: right;\">\n",
       "      <th></th>\n",
       "      <th>SO</th>\n",
       "      <th>WO</th>\n",
       "    </tr>\n",
       "  </thead>\n",
       "  <tbody>\n",
       "  </tbody>\n",
       "</table>\n",
       "</div>"
      ],
      "text/plain": [
       "Empty DataFrame\n",
       "Columns: [SO, WO]\n",
       "Index: []"
      ]
     },
     "execution_count": 4,
     "metadata": {},
     "output_type": "execute_result"
    }
   ],
   "source": [
    "O_SW, T_SW = get_parasha_tables(SWOT)\n",
    "O_SW"
   ]
  },
  {
   "cell_type": "code",
   "execution_count": 231,
   "metadata": {},
   "outputs": [
    {
     "data": {
      "text/plain": [
       "1"
      ]
     },
     "execution_count": 231,
     "metadata": {},
     "output_type": "execute_result"
    }
   ],
   "source": [
    "int(True)"
   ]
  },
  {
   "cell_type": "code",
   "execution_count": null,
   "metadata": {},
   "outputs": [],
   "source": []
  }
 ],
 "metadata": {
  "kernelspec": {
   "display_name": "Python 3",
   "language": "python",
   "name": "python3"
  },
  "language_info": {
   "codemirror_mode": {
    "name": "ipython",
    "version": 3
   },
   "file_extension": ".py",
   "mimetype": "text/x-python",
   "name": "python",
   "nbconvert_exporter": "python",
   "pygments_lexer": "ipython3",
   "version": "3.7.2"
  }
 },
 "nbformat": 4,
 "nbformat_minor": 4
}

SWOT = initialize()
scores = get_weights(SWOT)
strategy_topsis = topsis()
strategy_vikor = vikor(SWOT)

print("TOPSIS says: " + strategy_topsis)
print("VIKOR says: " + strategy_vikor)

O_SW, T_SW = get_parasha_tables(SWOT)
O_SW

def form_ComponentMatrix():
    swot_matrix = SWOTComponentMatrix().load("SWOT_table.html")
    so, st, wo, wt = swot_matrix.get_components()
    swot_matrix.save_html_table("example.html", fontsize=12, font="Comic Sans", header_color="#aef500",
                                text_align="right")

