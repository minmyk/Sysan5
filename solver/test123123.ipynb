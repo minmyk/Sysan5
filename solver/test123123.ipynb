{
 "cells": [
  {
   "cell_type": "code",
   "execution_count": 88,
   "metadata": {},
   "outputs": [
    {
     "name": "stderr",
     "output_type": "stream",
     "text": [
      "C:\\Users\\User\\Anaconda3\\envs\\py36\\lib\\site-packages\\ipykernel_launcher.py:10: RuntimeWarning: invalid value encountered in log\n",
      "  # Remove the CWD from sys.path while we load stuff.\n",
      "C:\\Users\\User\\Anaconda3\\envs\\py36\\lib\\site-packages\\scipy\\optimize\\_differentialevolution.py:1012: RuntimeWarning: invalid value encountered in less_equal\n",
      "  return energy_trial <= energy_orig\n",
      "C:\\Users\\User\\Anaconda3\\envs\\py36\\lib\\site-packages\\scipy\\optimize\\_differentialevolution.py:826: RuntimeWarning: invalid value encountered in less\n",
      "  if (result.fun < DE_result.fun and\n"
     ]
    },
    {
     "data": {
      "text/plain": [
       "(array([467.94328244]), nan)"
      ]
     },
     "execution_count": 88,
     "metadata": {},
     "output_type": "execute_result"
    }
   ],
   "source": [
    "import numpy as np\n",
    "\n",
    "def opt_problem(t):\n",
    "    return t\n",
    "    \n",
    "\n",
    "from scipy.optimize import differential_evolution\n",
    "import numpy as np\n",
    "def ackley(x):\n",
    "    return 1+np.log((1+0.5*x)*(1-0.0075*x*x)*(1+0.005*x*x))\n",
    "bounds = [(0, 1000)]\n",
    "result = differential_evolution(ackley, bounds)\n",
    "result.x, result.fun\n"
   ]
  },
  {
   "cell_type": "code",
   "execution_count": 89,
   "metadata": {},
   "outputs": [],
   "source": [
    "import matplotlib.pyplot as plt\n"
   ]
  },
  {
   "cell_type": "code",
   "execution_count": 90,
   "metadata": {},
   "outputs": [
    {
     "name": "stderr",
     "output_type": "stream",
     "text": [
      "C:\\Users\\User\\Anaconda3\\envs\\py36\\lib\\site-packages\\ipykernel_launcher.py:10: RuntimeWarning: invalid value encountered in log\n",
      "  # Remove the CWD from sys.path while we load stuff.\n"
     ]
    },
    {
     "data": {
      "text/plain": [
       "[<matplotlib.lines.Line2D at 0x210ba5b9390>]"
      ]
     },
     "execution_count": 90,
     "metadata": {},
     "output_type": "execute_result"
    },
    {
     "data": {
      "image/png": "[encoded data removed]",
      "text/plain": [
       "<Figure size 432x288 with 1 Axes>"
      ]
     },
     "metadata": {
      "needs_background": "light"
     },
     "output_type": "display_data"
    }
   ],
   "source": [
    "x_  = np.linspace(0, 1000, 1000)\n",
    "plt.plot(ackley(x_))"
   ]
  },
  {
   "cell_type": "code",
   "execution_count": null,
   "metadata": {},
   "outputs": [],
   "source": [
    "alpha = lambda a_hat, I_p_hat: np.exp(a_hat)*I_p_hat*0.5 if 0<a_hat<=1 else 0 if a_hat>1\n",
    "gamma = lambda a_hat, I_d_hat: np.exp(I_d_hat)*a_hat*0.05 if 0<a_hat<=1 else 0 if a_hat>1\n",
    "betta = lambda a_hat, I_d_hat, I_t_hat: (a_hat+gamma(a_hat,I_d_hat)*I_t_hat*1e-5) if 0<a_hat<=1 else 0 if a_hat>1\n",
    "I_p = lambda t, a_hat, I_p_hat: I_p_hat*(1+alpha(a_hat,I_p_hat)*t) if I_p_hat*(1+alpha(a_hat,I_p_hat)*t)<1 else 1\n",
    "I_d = lambda t, a_hat, I_d_hat: I_d_hat*(1+gamma(a_hat,I_d_hat)*t) if I_d_hat*(1+gamma(a_hat,I_d_hat)*t)<1 else 1\n",
    "I_t = lambda t, a_hat, I_d_hat, I_t_hat: I_t_hat*(1-betta(a_hat,I_d_hat)*t)"
   ]
  },
  {
   "cell_type": "code",
   "execution_count": 125,
   "metadata": {},
   "outputs": [],
   "source": [
    "lspace = np.linspace(0,100000,100000000)"
   ]
  },
  {
   "cell_type": "code",
   "execution_count": 126,
   "metadata": {},
   "outputs": [],
   "source": [
    "def inequlity(f,t,bound1,bound2):\n",
    "    return (f(t)<=bound2)*(f(t)>=bound1)"
   ]
  },
  {
   "cell_type": "code",
   "execution_count": 127,
   "metadata": {},
   "outputs": [],
   "source": [
    "def parasha(t):\n",
    "    return 1-np.log(t*t+t+3)"
   ]
  },
  {
   "cell_type": "code",
   "execution_count": 135,
   "metadata": {},
   "outputs": [],
   "source": [
    "a = lspace*inequlity(parasha,lspace,0.1,0.5)"
   ]
  },
  {
   "cell_type": "code",
   "execution_count": 137,
   "metadata": {},
   "outputs": [
    {
     "data": {
      "text/plain": [
       "array([0., 0., 0., ..., 0., 0., 0.])"
      ]
     },
     "execution_count": 137,
     "metadata": {},
     "output_type": "execute_result"
    }
   ],
   "source": [
    "a[a==0]"
   ]
  },
  {
   "cell_type": "code",
   "execution_count": 138,
   "metadata": {},
   "outputs": [
    {
     "data": {
      "text/plain": [
       "array([ -0.09861229,  -0.0989459 ,  -0.09928007, ..., -22.02586089,\n",
       "       -22.02586091, -22.02586093])"
      ]
     },
     "execution_count": 138,
     "metadata": {},
     "output_type": "execute_result"
    }
   ],
   "source": [
    "parasha(lspace)"
   ]
  },
  {
   "cell_type": "code",
   "execution_count": null,
   "metadata": {},
   "outputs": [],
   "source": []
  }
 ],
 "metadata": {
  "kernelspec": {
   "display_name": "Python 3",
   "language": "python",
   "name": "python3"
  },
  "language_info": {
   "codemirror_mode": {
    "name": "ipython",
    "version": 3
   },
   "file_extension": ".py",
   "mimetype": "text/x-python",
   "name": "python",
   "nbconvert_exporter": "python",
   "pygments_lexer": "ipython3",
   "version": "3.6.10"
  }
 },
 "nbformat": 4,
 "nbformat_minor": 4
}
