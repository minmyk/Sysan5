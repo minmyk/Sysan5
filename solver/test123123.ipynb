{
 "cells": [
  {
   "cell_type": "code",
   "execution_count": 1,
   "metadata": {},
   "outputs": [
    {
     "name": "stderr",
     "output_type": "stream",
     "text": [
      "/home/ec2-user/anaconda3/envs/python3/lib/python3.6/site-packages/ipykernel/__main__.py:10: RuntimeWarning: invalid value encountered in log\n"
     ]
    },
    {
     "data": {
      "text/plain": [
       "(array([248.70130668]), nan)"
      ]
     },
     "execution_count": 1,
     "metadata": {},
     "output_type": "execute_result"
    }
   ],
   "source": [
    "import numpy as np\n",
    "\n",
    "def opt_problem(t):\n",
    "    return t\n",
    "    \n",
    "\n",
    "from scipy.optimize import differential_evolution\n",
    "import numpy as np\n",
    "def ackley(x):\n",
    "    return 1+np.log((1+0.5*x)*(1-0.0075*x*x)*(1+0.005*x*x))\n",
    "bounds = [(0, 1000)]\n",
    "result = differential_evolution(ackley, bounds)\n",
    "result.x, result.fun\n"
   ]
  },
  {
   "cell_type": "code",
   "execution_count": 171,
   "metadata": {},
   "outputs": [],
   "source": [
    "import matplotlib.pyplot as plt\n"
   ]
  },
  {
   "cell_type": "code",
   "execution_count": null,
   "metadata": {},
   "outputs": [],
   "source": []
  },
  {
   "cell_type": "code",
   "execution_count": null,
   "metadata": {},
   "outputs": [],
   "source": []
  },
  {
   "cell_type": "code",
   "execution_count": 90,
   "metadata": {},
   "outputs": [
    {
     "name": "stderr",
     "output_type": "stream",
     "text": [
      "C:\\Users\\User\\Anaconda3\\envs\\py36\\lib\\site-packages\\ipykernel_launcher.py:10: RuntimeWarning: invalid value encountered in log\n",
      "  # Remove the CWD from sys.path while we load stuff.\n"
     ]
    },
    {
     "data": {
      "text/plain": [
       "[<matplotlib.lines.Line2D at 0x210ba5b9390>]"
      ]
     },
     "execution_count": 90,
     "metadata": {},
     "output_type": "execute_result"
    },
    {
     "data": {
      "image/png": "[encoded data removed]",
      "text/plain": [
       "<Figure size 432x288 with 1 Axes>"
      ]
     },
     "metadata": {
      "needs_background": "light"
     },
     "output_type": "display_data"
    }
   ],
   "source": [
    "x_  = np.linspace(0, 1000, 1000)\n",
    "plt.plot(ackley(x_))"
   ]
  },
  {
   "cell_type": "code",
   "execution_count": 33,
   "metadata": {},
   "outputs": [],
   "source": [
    "def alpha(a_hat, I_p_hat):\n",
    "    return np.exp(a_hat)*I_p_hat*0.5 if 0<a_hat<=1 else 0 if a_hat>1 else None\n",
    "\n",
    "def gamma(a_hat, I_d_hat):\n",
    "    return np.exp(I_d_hat)*a_hat*0.05 if 0<a_hat<=1 else 0 if a_hat>1 else None\n",
    "    \n",
    "def betta(a_hat, I_d_hat, I_t_hat):\n",
    "    return (a_hat+gamma(a_hat,I_d_hat))*I_t_hat*1e-5 if 0<a_hat<=1 else 0 if a_hat>1 else None\n",
    "def I_p(t, a_hat, I_p_hat):\n",
    "    return I_p_hat*(1+alpha(a_hat,I_p_hat)*t) if I_p_hat*(1+alpha(a_hat,I_p_hat)*t)<1 else 1 \n",
    "    \n",
    "def I_d(t, a_hat, I_d_hat):\n",
    "    return I_d_hat*(1+gamma(a_hat,I_d_hat)*t) if I_d_hat*(1+gamma(a_hat,I_d_hat)*t)<1 else 1 \n",
    "\n",
    "def I_t(t, a_hat, I_d_hat, I_t_hat):\n",
    "    return I_t_hat*(1-betta(a_hat, I_d_hat, I_t_hat)*t*t) if betta(a_hat, I_d_hat, I_t_hat)*t*t<1 else 0\n",
    "\n",
    "def I(t, a_hat, I_p_hat, I_d_hat, I_t_hat):\n",
    "    return I_p(t, a_hat, I_p_hat)*I_d(t, a_hat, I_d_hat)*I_t(t, a_hat, I_d_hat, I_t_hat)"
   ]
  },
  {
   "cell_type": "code",
   "execution_count": 191,
   "metadata": {},
   "outputs": [],
   "source": [
    "lspace = np.linspace(0,1000,100000)"
   ]
  },
  {
   "cell_type": "code",
   "execution_count": 192,
   "metadata": {},
   "outputs": [],
   "source": [
    "a_hat = 0.2\n",
    "I_p_hat = 0.7\n",
    "I_d_hat = 0.8\n",
    "I_t_hat = 0.8"
   ]
  },
  {
   "cell_type": "code",
   "execution_count": 193,
   "metadata": {},
   "outputs": [],
   "source": [
    "def inequlity(f,t,bound1,bound2):\n",
    "    return (f(t,a_hat,I_p_hat,I_d_hat,I_t_hat)<=bound2)*(f(t,a_hat,I_p_hat,I_d_hat,I_t_hat)>=bound1)"
   ]
  },
  {
   "cell_type": "code",
   "execution_count": 194,
   "metadata": {},
   "outputs": [],
   "source": [
    "def parasha(t,a_hat,I_p_hat,I_d_hat,I_t_hat):\n",
    "    return 1-np.log(1+alpha(a_hat, I_p_hat)*I(t, a_hat, I_p_hat, I_d_hat, I_t_hat))\n",
    "parasha = np.vectorize(parasha)"
   ]
  },
  {
   "cell_type": "code",
   "execution_count": 195,
   "metadata": {},
   "outputs": [],
   "source": [
    "a = inequlity(parasha,lspace,0.7,0.8)"
   ]
  },
  {
   "cell_type": "code",
   "execution_count": 196,
   "metadata": {},
   "outputs": [
    {
     "data": {
      "text/plain": [
       "0.0"
      ]
     },
     "execution_count": 196,
     "metadata": {},
     "output_type": "execute_result"
    }
   ],
   "source": [
    "lspace[np.argwhere(a==True)]"
   ]
  },
  {
   "cell_type": "code",
   "execution_count": 197,
   "metadata": {},
   "outputs": [
    {
     "data": {
      "text/plain": [
       "[<matplotlib.lines.Line2D at 0x7f202fc230f0>]"
      ]
     },
     "execution_count": 197,
     "metadata": {},
     "output_type": "execute_result"
    },
    {
     "data": {
      "image/png": "[encoded data removed]",
      "text/plain": [
       "<Figure size 432x288 with 1 Axes>"
      ]
     },
     "metadata": {},
     "output_type": "display_data"
    }
   ],
   "source": [
    "plt.plot(a)"
   ]
  },
  {
   "cell_type": "code",
   "execution_count": 198,
   "metadata": {},
   "outputs": [
    {
     "data": {
      "text/plain": [
       "array([False, False, False, ..., False, False, False])"
      ]
     },
     "execution_count": 198,
     "metadata": {},
     "output_type": "execute_result"
    }
   ],
   "source": [
    "a"
   ]
  },
  {
   "cell_type": "code",
   "execution_count": null,
   "metadata": {},
   "outputs": [],
   "source": []
  },
  {
   "cell_type": "code",
   "execution_count": null,
   "metadata": {},
   "outputs": [],
   "source": []
  }
 ],
 "metadata": {
  "kernelspec": {
   "display_name": "conda_python3",
   "language": "python",
   "name": "conda_python3"
  },
  "language_info": {
   "codemirror_mode": {
    "name": "ipython",
    "version": 3
   },
   "file_extension": ".py",
   "mimetype": "text/x-python",
   "name": "python",
   "nbconvert_exporter": "python",
   "pygments_lexer": "ipython3",
   "version": "3.6.5"
  }
 },
 "nbformat": 4,
 "nbformat_minor": 4
}
