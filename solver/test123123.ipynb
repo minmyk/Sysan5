{
 "cells": [
  {
   "cell_type": "code",
   "execution_count": 1,
   "metadata": {},
   "outputs": [
    {
     "data": {
      "text/plain": [
       "'def opt_problem(t):\\n    return t\\n    \\n\\nfrom scipy.optimize import differential_evolution\\nimport numpy as np\\ndef ackley(x):\\n    return 1+np.log((1+0.5*x)*(1-0.0075*x*x)*(1+0.005*x*x))\\nbounds = [(0, 1000)]\\nresult = differential_evolution(ackley, bounds)\\nresult.x, result.fun\\n'"
      ]
     },
     "execution_count": 1,
     "metadata": {},
     "output_type": "execute_result"
    }
   ],
   "source": [
    "import numpy as np\n",
    "\n",
    "\"\"\"def opt_problem(t):\n",
    "    return t\n",
    "    \n",
    "\n",
    "from scipy.optimize import differential_evolution\n",
    "import numpy as np\n",
    "def ackley(x):\n",
    "    return 1+np.log((1+0.5*x)*(1-0.0075*x*x)*(1+0.005*x*x))\n",
    "bounds = [(0, 1000)]\n",
    "result = differential_evolution(ackley, bounds)\n",
    "result.x, result.fun\n",
    "\"\"\""
   ]
  },
  {
   "cell_type": "code",
   "execution_count": 294,
   "metadata": {},
   "outputs": [],
   "source": [
    "import matplotlib.pyplot as plt"
   ]
  },
  {
   "cell_type": "code",
   "execution_count": null,
   "metadata": {},
   "outputs": [],
   "source": []
  },
  {
   "cell_type": "code",
   "execution_count": null,
   "metadata": {},
   "outputs": [],
   "source": []
  },
  {
   "cell_type": "code",
   "execution_count": 306,
   "metadata": {},
   "outputs": [],
   "source": [
    "def alpha(a_hat, I_p_hat, I_d_hat, I_t_hat):\n",
    "    return 1+5*a_hat*I_p_hat/gamma(a_hat, I_p_hat, I_d_hat, I_t_hat) if 0<a_hat<=1 else 0 if a_hat>1 else None\n",
    "\n",
    "def gamma(a_hat, I_p_hat, I_d_hat, I_t_hat):\n",
    "    return 1+5*I_d_hat*betta(a_hat, I_p_hat, I_d_hat, I_t_hat)*a_hat**(-2) if 0<a_hat<=1 else 0 if a_hat>1 else None\n",
    "    \n",
    "def betta(a_hat, I_p_hat, I_d_hat, I_t_hat):\n",
    "    return 1+(20*a_hat*I_d_hat) if 0<a_hat<=1 else 0 if a_hat>1 else None\n",
    "def I_p(t, a_hat, I_p_hat, I_d_hat, I_t_hat):\n",
    "    return I_p_hat*(1+1*(1+alpha(a_hat, I_p_hat, I_d_hat, I_t_hat))*t**(3/2)) if I_p_hat*(1+0.5*(1+alpha(a_hat, I_p_hat, I_d_hat, I_t_hat))*t)<1 else 1 \n",
    "    \n",
    "def I_d(t, a_hat, I_p_hat, I_d_hat, I_t_hat):\n",
    "    return 1e-2*I_d_hat*(1+(1+gamma(a_hat, I_p_hat, I_d_hat, I_t_hat))*t*t) if 1e-2*I_d_hat*(1+(1+gamma(a_hat, I_p_hat, I_d_hat, I_t_hat))*t)<1 else 1 \n",
    "\n",
    "def I_t(t, a_hat, I_p_hat, I_d_hat, I_t_hat):\n",
    "    return 0.25*I_t_hat*(1+(1-betta(a_hat, I_p_hat, I_d_hat, I_t_hat)*t*t))**3 if betta(a_hat, I_p_hat, I_d_hat, I_t_hat)*t*t<1 else 0\n",
    "\n",
    "def I(t, a_hat, I_p_hat, I_d_hat, I_t_hat):\n",
    "    return I_p(t, a_hat, I_p_hat, I_d_hat, I_t_hat)*I_d(t, a_hat, I_p_hat, I_d_hat, I_t_hat)*I_t(t, a_hat, I_p_hat, I_d_hat, I_t_hat)"
   ]
  },
  {
   "cell_type": "code",
   "execution_count": 307,
   "metadata": {},
   "outputs": [
    {
     "data": {
      "text/plain": [
       "'def I_p(t, a_hat, I_p_hat, I_d_hat, I_t_hat):\\n    return I_p_hat*(1+alpha(a_hat, I_p_hat, I_d_hat, I_t_hat)*t*t) if I_p_hat*(1+alpha(a_hat, I_p_hat, I_d_hat, I_t_hat)*t)<1 else 1 \\n    \\ndef I_d(t, a_hat, I_p_hat, I_d_hat, I_t_hat):\\n    return I_d_hat*(1+gamma(a_hat, I_p_hat, I_d_hat, I_t_hat)*t) if I_d_hat*(1+gamma(a_hat, I_p_hat, I_d_hat, I_t_hat)*t)<1 else 1 \\n\\ndef I_t(t, a_hat, I_p_hat, I_d_hat, I_t_hat):\\n    return I_t_hat*(1-betta(a_hat, I_p_hat, I_d_hat, I_t_hat)*t) if betta(a_hat, I_p_hat, I_d_hat, I_t_hat)*t*t<1 else 0\\n\\ndef I(t, a_hat, I_p_hat, I_d_hat, I_t_hat):\\n    return I_p(t, a_hat, I_p_hat, I_d_hat, I_t_hat)*I_d(t, a_hat, I_p_hat, I_d_hat, I_t_hat)*I_t(t, a_hat, I_p_hat, I_d_hat, I_t_hat)'"
      ]
     },
     "execution_count": 307,
     "metadata": {},
     "output_type": "execute_result"
    }
   ],
   "source": [
    "#staroe\n",
    "\"\"\"def I_p(t, a_hat, I_p_hat, I_d_hat, I_t_hat):\n",
    "    return I_p_hat*(1+alpha(a_hat, I_p_hat, I_d_hat, I_t_hat)*t*t) if I_p_hat*(1+alpha(a_hat, I_p_hat, I_d_hat, I_t_hat)*t)<1 else 1 \n",
    "    \n",
    "def I_d(t, a_hat, I_p_hat, I_d_hat, I_t_hat):\n",
    "    return I_d_hat*(1+gamma(a_hat, I_p_hat, I_d_hat, I_t_hat)*t) if I_d_hat*(1+gamma(a_hat, I_p_hat, I_d_hat, I_t_hat)*t)<1 else 1 \n",
    "\n",
    "def I_t(t, a_hat, I_p_hat, I_d_hat, I_t_hat):\n",
    "    return I_t_hat*(1-betta(a_hat, I_p_hat, I_d_hat, I_t_hat)*t) if betta(a_hat, I_p_hat, I_d_hat, I_t_hat)*t*t<1 else 0\n",
    "\n",
    "def I(t, a_hat, I_p_hat, I_d_hat, I_t_hat):\n",
    "    return I_p(t, a_hat, I_p_hat, I_d_hat, I_t_hat)*I_d(t, a_hat, I_p_hat, I_d_hat, I_t_hat)*I_t(t, a_hat, I_p_hat, I_d_hat, I_t_hat)\"\"\""
   ]
  },
  {
   "cell_type": "code",
   "execution_count": 308,
   "metadata": {},
   "outputs": [],
   "source": [
    "lspace = np.linspace(0,1000,100000)"
   ]
  },
  {
   "cell_type": "code",
   "execution_count": 309,
   "metadata": {},
   "outputs": [],
   "source": [
    "param_dict = {\"a_hat\":0.2,\"I_p_hat\":0.8,\"I_d_hat\":0.8,\"I_t_hat\":1}"
   ]
  },
  {
   "cell_type": "code",
   "execution_count": 310,
   "metadata": {},
   "outputs": [
    {
     "data": {
      "text/plain": [
       "array(0.96915815)"
      ]
     },
     "execution_count": 310,
     "metadata": {},
     "output_type": "execute_result"
    }
   ],
   "source": [
    "parasha(0.04,**param_dict)"
   ]
  },
  {
   "cell_type": "code",
   "execution_count": 311,
   "metadata": {},
   "outputs": [],
   "source": [
    "def inequlity(f,t,bound1,bound2, params):\n",
    "    return (f(t,**params)<=bound2)*(f(t,**params)>=bound1)"
   ]
  },
  {
   "cell_type": "code",
   "execution_count": 312,
   "metadata": {},
   "outputs": [],
   "source": [
    "def parasha(t,a_hat,I_p_hat,I_d_hat,I_t_hat):\n",
    "    return 1-np.log2(1+alpha(a_hat, I_p_hat, I_d_hat, I_t_hat)*I(t, a_hat, I_p_hat, I_d_hat, I_t_hat))\n",
    "parasha = np.vectorize(parasha)"
   ]
  },
  {
   "cell_type": "code",
   "execution_count": 313,
   "metadata": {},
   "outputs": [],
   "source": [
    "a = inequlity(parasha,lspace,0.1,0.6, param_dict)"
   ]
  },
  {
   "cell_type": "code",
   "execution_count": 314,
   "metadata": {},
   "outputs": [
    {
     "data": {
      "text/plain": [
       "array([[0.2900029],\n",
       "       [0.3500035],\n",
       "       [0.3600036],\n",
       "       [0.3700037],\n",
       "       [0.3800038],\n",
       "       [0.3900039],\n",
       "       [0.400004 ],\n",
       "       [0.4100041],\n",
       "       [0.4200042],\n",
       "       [0.4300043],\n",
       "       [0.4400044],\n",
       "       [0.4500045],\n",
       "       [0.4600046]])"
      ]
     },
     "execution_count": 314,
     "metadata": {},
     "output_type": "execute_result"
    }
   ],
   "source": [
    "lspace[np.argwhere(a==True)]"
   ]
  },
  {
   "cell_type": "code",
   "execution_count": 315,
   "metadata": {},
   "outputs": [
    {
     "data": {
      "image/png": "[encoded data removed]",
      "text/plain": [
       "<Figure size 432x288 with 1 Axes>"
      ]
     },
     "metadata": {
      "needs_background": "light"
     },
     "output_type": "display_data"
    }
   ],
   "source": [
    "plt.plot(lspace[:100],a[:100]);"
   ]
  },
  {
   "cell_type": "code",
   "execution_count": 317,
   "metadata": {},
   "outputs": [
    {
     "data": {
      "text/plain": [
       "array([0.98161604, 0.98081927, 0.97846906, ..., 1.        , 1.        ,\n",
       "       1.        ])"
      ]
     },
     "execution_count": 317,
     "metadata": {},
     "output_type": "execute_result"
    }
   ],
   "source": [
    "parasha(lspace,**param_dict)"
   ]
  },
  {
   "cell_type": "code",
   "execution_count": null,
   "metadata": {},
   "outputs": [],
   "source": []
  },
  {
   "cell_type": "code",
   "execution_count": null,
   "metadata": {},
   "outputs": [],
   "source": []
  }
 ],
 "metadata": {
  "kernelspec": {
   "display_name": "Python 3",
   "language": "python",
   "name": "python3"
  },
  "language_info": {
   "codemirror_mode": {
    "name": "ipython",
    "version": 3
   },
   "file_extension": ".py",
   "mimetype": "text/x-python",
   "name": "python",
   "nbconvert_exporter": "python",
   "pygments_lexer": "ipython3",
   "version": "3.6.10"
  }
 },
 "nbformat": 4,
 "nbformat_minor": 4
}
